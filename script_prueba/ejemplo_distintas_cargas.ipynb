{
 "cells": [
  {
   "cell_type": "markdown",
   "id": "7066fd49",
   "metadata": {},
   "source": [
    "# Ejemplo de cargas de archivos"
   ]
  },
  {
   "cell_type": "markdown",
   "id": "0ba58346",
   "metadata": {},
   "source": [
    "## Ejemplo #1 - Archivo Excel con varios sheets"
   ]
  },
  {
   "cell_type": "code",
   "execution_count": 3,
   "id": "47ae6b46",
   "metadata": {},
   "outputs": [],
   "source": [
    "import pandas as pd"
   ]
  },
  {
   "cell_type": "code",
   "execution_count": 4,
   "id": "6e9b5601",
   "metadata": {},
   "outputs": [],
   "source": [
    "ruta_excel = r\"D:\\UNIANDES\\Carrera de Software\\Titulacion\\Seminario_Python\\seminario_complexivo_demo-games\\data\\Sample - Superstore.xls\""
   ]
  },
  {
   "cell_type": "code",
   "execution_count": 5,
   "id": "ef67f711",
   "metadata": {},
   "outputs": [],
   "source": [
    "df = pd.read_excel(ruta_excel, sheet_name=\"Orders\")"
   ]
  },
  {
   "cell_type": "code",
   "execution_count": 6,
   "id": "197ce5fe",
   "metadata": {},
   "outputs": [
    {
     "data": {
      "text/html": [
       "<div>\n",
       "<style scoped>\n",
       "    .dataframe tbody tr th:only-of-type {\n",
       "        vertical-align: middle;\n",
       "    }\n",
       "\n",
       "    .dataframe tbody tr th {\n",
       "        vertical-align: top;\n",
       "    }\n",
       "\n",
       "    .dataframe thead th {\n",
       "        text-align: right;\n",
       "    }\n",
       "</style>\n",
       "<table border=\"1\" class=\"dataframe\">\n",
       "  <thead>\n",
       "    <tr style=\"text-align: right;\">\n",
       "      <th></th>\n",
       "      <th>Row ID</th>\n",
       "      <th>Order ID</th>\n",
       "      <th>Order Date</th>\n",
       "      <th>Ship Date</th>\n",
       "      <th>Ship Mode</th>\n",
       "      <th>Customer ID</th>\n",
       "      <th>Customer Name</th>\n",
       "      <th>Segment</th>\n",
       "      <th>Country</th>\n",
       "      <th>City</th>\n",
       "      <th>...</th>\n",
       "      <th>Postal Code</th>\n",
       "      <th>Region</th>\n",
       "      <th>Product ID</th>\n",
       "      <th>Category</th>\n",
       "      <th>Sub-Category</th>\n",
       "      <th>Product Name</th>\n",
       "      <th>Sales</th>\n",
       "      <th>Quantity</th>\n",
       "      <th>Discount</th>\n",
       "      <th>Profit</th>\n",
       "    </tr>\n",
       "  </thead>\n",
       "  <tbody>\n",
       "    <tr>\n",
       "      <th>0</th>\n",
       "      <td>1</td>\n",
       "      <td>CA-2016-152156</td>\n",
       "      <td>2016-11-08</td>\n",
       "      <td>2016-11-11</td>\n",
       "      <td>Second Class</td>\n",
       "      <td>CG-12520</td>\n",
       "      <td>Claire Gute</td>\n",
       "      <td>Consumer</td>\n",
       "      <td>United States</td>\n",
       "      <td>Henderson</td>\n",
       "      <td>...</td>\n",
       "      <td>42420</td>\n",
       "      <td>South</td>\n",
       "      <td>FUR-BO-10001798</td>\n",
       "      <td>Furniture</td>\n",
       "      <td>Bookcases</td>\n",
       "      <td>Bush Somerset Collection Bookcase</td>\n",
       "      <td>261.9600</td>\n",
       "      <td>2</td>\n",
       "      <td>0.00</td>\n",
       "      <td>41.9136</td>\n",
       "    </tr>\n",
       "    <tr>\n",
       "      <th>1</th>\n",
       "      <td>2</td>\n",
       "      <td>CA-2016-152156</td>\n",
       "      <td>2016-11-08</td>\n",
       "      <td>2016-11-11</td>\n",
       "      <td>Second Class</td>\n",
       "      <td>CG-12520</td>\n",
       "      <td>Claire Gute</td>\n",
       "      <td>Consumer</td>\n",
       "      <td>United States</td>\n",
       "      <td>Henderson</td>\n",
       "      <td>...</td>\n",
       "      <td>42420</td>\n",
       "      <td>South</td>\n",
       "      <td>FUR-CH-10000454</td>\n",
       "      <td>Furniture</td>\n",
       "      <td>Chairs</td>\n",
       "      <td>Hon Deluxe Fabric Upholstered Stacking Chairs,...</td>\n",
       "      <td>731.9400</td>\n",
       "      <td>3</td>\n",
       "      <td>0.00</td>\n",
       "      <td>219.5820</td>\n",
       "    </tr>\n",
       "    <tr>\n",
       "      <th>2</th>\n",
       "      <td>3</td>\n",
       "      <td>CA-2016-138688</td>\n",
       "      <td>2016-06-12</td>\n",
       "      <td>2016-06-16</td>\n",
       "      <td>Second Class</td>\n",
       "      <td>DV-13045</td>\n",
       "      <td>Darrin Van Huff</td>\n",
       "      <td>Corporate</td>\n",
       "      <td>United States</td>\n",
       "      <td>Los Angeles</td>\n",
       "      <td>...</td>\n",
       "      <td>90036</td>\n",
       "      <td>West</td>\n",
       "      <td>OFF-LA-10000240</td>\n",
       "      <td>Office Supplies</td>\n",
       "      <td>Labels</td>\n",
       "      <td>Self-Adhesive Address Labels for Typewriters b...</td>\n",
       "      <td>14.6200</td>\n",
       "      <td>2</td>\n",
       "      <td>0.00</td>\n",
       "      <td>6.8714</td>\n",
       "    </tr>\n",
       "    <tr>\n",
       "      <th>3</th>\n",
       "      <td>4</td>\n",
       "      <td>US-2015-108966</td>\n",
       "      <td>2015-10-11</td>\n",
       "      <td>2015-10-18</td>\n",
       "      <td>Standard Class</td>\n",
       "      <td>SO-20335</td>\n",
       "      <td>Sean O'Donnell</td>\n",
       "      <td>Consumer</td>\n",
       "      <td>United States</td>\n",
       "      <td>Fort Lauderdale</td>\n",
       "      <td>...</td>\n",
       "      <td>33311</td>\n",
       "      <td>South</td>\n",
       "      <td>FUR-TA-10000577</td>\n",
       "      <td>Furniture</td>\n",
       "      <td>Tables</td>\n",
       "      <td>Bretford CR4500 Series Slim Rectangular Table</td>\n",
       "      <td>957.5775</td>\n",
       "      <td>5</td>\n",
       "      <td>0.45</td>\n",
       "      <td>-383.0310</td>\n",
       "    </tr>\n",
       "    <tr>\n",
       "      <th>4</th>\n",
       "      <td>5</td>\n",
       "      <td>US-2015-108966</td>\n",
       "      <td>2015-10-11</td>\n",
       "      <td>2015-10-18</td>\n",
       "      <td>Standard Class</td>\n",
       "      <td>SO-20335</td>\n",
       "      <td>Sean O'Donnell</td>\n",
       "      <td>Consumer</td>\n",
       "      <td>United States</td>\n",
       "      <td>Fort Lauderdale</td>\n",
       "      <td>...</td>\n",
       "      <td>33311</td>\n",
       "      <td>South</td>\n",
       "      <td>OFF-ST-10000760</td>\n",
       "      <td>Office Supplies</td>\n",
       "      <td>Storage</td>\n",
       "      <td>Eldon Fold 'N Roll Cart System</td>\n",
       "      <td>22.3680</td>\n",
       "      <td>2</td>\n",
       "      <td>0.20</td>\n",
       "      <td>2.5164</td>\n",
       "    </tr>\n",
       "  </tbody>\n",
       "</table>\n",
       "<p>5 rows × 21 columns</p>\n",
       "</div>"
      ],
      "text/plain": [
       "   Row ID        Order ID Order Date  Ship Date       Ship Mode Customer ID  \\\n",
       "0       1  CA-2016-152156 2016-11-08 2016-11-11    Second Class    CG-12520   \n",
       "1       2  CA-2016-152156 2016-11-08 2016-11-11    Second Class    CG-12520   \n",
       "2       3  CA-2016-138688 2016-06-12 2016-06-16    Second Class    DV-13045   \n",
       "3       4  US-2015-108966 2015-10-11 2015-10-18  Standard Class    SO-20335   \n",
       "4       5  US-2015-108966 2015-10-11 2015-10-18  Standard Class    SO-20335   \n",
       "\n",
       "     Customer Name    Segment        Country             City  ...  \\\n",
       "0      Claire Gute   Consumer  United States        Henderson  ...   \n",
       "1      Claire Gute   Consumer  United States        Henderson  ...   \n",
       "2  Darrin Van Huff  Corporate  United States      Los Angeles  ...   \n",
       "3   Sean O'Donnell   Consumer  United States  Fort Lauderdale  ...   \n",
       "4   Sean O'Donnell   Consumer  United States  Fort Lauderdale  ...   \n",
       "\n",
       "  Postal Code  Region       Product ID         Category Sub-Category  \\\n",
       "0       42420   South  FUR-BO-10001798        Furniture    Bookcases   \n",
       "1       42420   South  FUR-CH-10000454        Furniture       Chairs   \n",
       "2       90036    West  OFF-LA-10000240  Office Supplies       Labels   \n",
       "3       33311   South  FUR-TA-10000577        Furniture       Tables   \n",
       "4       33311   South  OFF-ST-10000760  Office Supplies      Storage   \n",
       "\n",
       "                                        Product Name     Sales  Quantity  \\\n",
       "0                  Bush Somerset Collection Bookcase  261.9600         2   \n",
       "1  Hon Deluxe Fabric Upholstered Stacking Chairs,...  731.9400         3   \n",
       "2  Self-Adhesive Address Labels for Typewriters b...   14.6200         2   \n",
       "3      Bretford CR4500 Series Slim Rectangular Table  957.5775         5   \n",
       "4                     Eldon Fold 'N Roll Cart System   22.3680         2   \n",
       "\n",
       "   Discount    Profit  \n",
       "0      0.00   41.9136  \n",
       "1      0.00  219.5820  \n",
       "2      0.00    6.8714  \n",
       "3      0.45 -383.0310  \n",
       "4      0.20    2.5164  \n",
       "\n",
       "[5 rows x 21 columns]"
      ]
     },
     "execution_count": 6,
     "metadata": {},
     "output_type": "execute_result"
    }
   ],
   "source": [
    "df.head()\n"
   ]
  },
  {
   "cell_type": "code",
   "execution_count": 7,
   "id": "4f96c969",
   "metadata": {},
   "outputs": [
    {
     "name": "stdout",
     "output_type": "stream",
     "text": [
      "<class 'pandas.core.frame.DataFrame'>\n",
      "RangeIndex: 9994 entries, 0 to 9993\n",
      "Data columns (total 21 columns):\n",
      " #   Column         Non-Null Count  Dtype         \n",
      "---  ------         --------------  -----         \n",
      " 0   Row ID         9994 non-null   int64         \n",
      " 1   Order ID       9994 non-null   object        \n",
      " 2   Order Date     9994 non-null   datetime64[ns]\n",
      " 3   Ship Date      9994 non-null   datetime64[ns]\n",
      " 4   Ship Mode      9994 non-null   object        \n",
      " 5   Customer ID    9994 non-null   object        \n",
      " 6   Customer Name  9994 non-null   object        \n",
      " 7   Segment        9994 non-null   object        \n",
      " 8   Country        9994 non-null   object        \n",
      " 9   City           9994 non-null   object        \n",
      " 10  State          9994 non-null   object        \n",
      " 11  Postal Code    9994 non-null   int64         \n",
      " 12  Region         9994 non-null   object        \n",
      " 13  Product ID     9994 non-null   object        \n",
      " 14  Category       9994 non-null   object        \n",
      " 15  Sub-Category   9994 non-null   object        \n",
      " 16  Product Name   9994 non-null   object        \n",
      " 17  Sales          9994 non-null   float64       \n",
      " 18  Quantity       9994 non-null   int64         \n",
      " 19  Discount       9994 non-null   float64       \n",
      " 20  Profit         9994 non-null   float64       \n",
      "dtypes: datetime64[ns](2), float64(3), int64(3), object(13)\n",
      "memory usage: 1.6+ MB\n"
     ]
    }
   ],
   "source": [
    "df.info()"
   ]
  },
  {
   "cell_type": "code",
   "execution_count": 8,
   "id": "fc752089",
   "metadata": {},
   "outputs": [],
   "source": [
    "nombres_archivos = [\"Orders\", \"Returns\", \"People\"]\n",
    "diccionario = {}"
   ]
  },
  {
   "cell_type": "code",
   "execution_count": 9,
   "id": "7349fcd3",
   "metadata": {},
   "outputs": [
    {
     "data": {
      "text/plain": [
       "{}"
      ]
     },
     "execution_count": 9,
     "metadata": {},
     "output_type": "execute_result"
    }
   ],
   "source": [
    "diccionario"
   ]
  },
  {
   "cell_type": "code",
   "execution_count": 10,
   "id": "23dfb391",
   "metadata": {},
   "outputs": [
    {
     "name": "stdout",
     "output_type": "stream",
     "text": [
      "Orders\n",
      "Returns\n",
      "People\n"
     ]
    }
   ],
   "source": [
    "for sheet in nombres_archivos:\n",
    "    print(sheet)"
   ]
  },
  {
   "cell_type": "code",
   "execution_count": 11,
   "id": "778ea8b5",
   "metadata": {},
   "outputs": [],
   "source": [
    "for sheet in nombres_archivos:\n",
    "    df_temporal = pd.read_excel(ruta_excel, sheet_name=sheet)\n",
    "    diccionario[sheet] = df_temporal"
   ]
  },
  {
   "cell_type": "code",
   "execution_count": 12,
   "id": "693f8a79",
   "metadata": {},
   "outputs": [
    {
     "data": {
      "text/plain": [
       "{'Orders':       Row ID        Order ID Order Date  Ship Date       Ship Mode  \\\n",
       " 0          1  CA-2016-152156 2016-11-08 2016-11-11    Second Class   \n",
       " 1          2  CA-2016-152156 2016-11-08 2016-11-11    Second Class   \n",
       " 2          3  CA-2016-138688 2016-06-12 2016-06-16    Second Class   \n",
       " 3          4  US-2015-108966 2015-10-11 2015-10-18  Standard Class   \n",
       " 4          5  US-2015-108966 2015-10-11 2015-10-18  Standard Class   \n",
       " ...      ...             ...        ...        ...             ...   \n",
       " 9989    9990  CA-2014-110422 2014-01-21 2014-01-23    Second Class   \n",
       " 9990    9991  CA-2017-121258 2017-02-26 2017-03-03  Standard Class   \n",
       " 9991    9992  CA-2017-121258 2017-02-26 2017-03-03  Standard Class   \n",
       " 9992    9993  CA-2017-121258 2017-02-26 2017-03-03  Standard Class   \n",
       " 9993    9994  CA-2017-119914 2017-05-04 2017-05-09    Second Class   \n",
       " \n",
       "      Customer ID     Customer Name    Segment        Country             City  \\\n",
       " 0       CG-12520       Claire Gute   Consumer  United States        Henderson   \n",
       " 1       CG-12520       Claire Gute   Consumer  United States        Henderson   \n",
       " 2       DV-13045   Darrin Van Huff  Corporate  United States      Los Angeles   \n",
       " 3       SO-20335    Sean O'Donnell   Consumer  United States  Fort Lauderdale   \n",
       " 4       SO-20335    Sean O'Donnell   Consumer  United States  Fort Lauderdale   \n",
       " ...          ...               ...        ...            ...              ...   \n",
       " 9989    TB-21400  Tom Boeckenhauer   Consumer  United States            Miami   \n",
       " 9990    DB-13060       Dave Brooks   Consumer  United States       Costa Mesa   \n",
       " 9991    DB-13060       Dave Brooks   Consumer  United States       Costa Mesa   \n",
       " 9992    DB-13060       Dave Brooks   Consumer  United States       Costa Mesa   \n",
       " 9993    CC-12220      Chris Cortes   Consumer  United States      Westminster   \n",
       " \n",
       "       ... Postal Code  Region       Product ID         Category Sub-Category  \\\n",
       " 0     ...       42420   South  FUR-BO-10001798        Furniture    Bookcases   \n",
       " 1     ...       42420   South  FUR-CH-10000454        Furniture       Chairs   \n",
       " 2     ...       90036    West  OFF-LA-10000240  Office Supplies       Labels   \n",
       " 3     ...       33311   South  FUR-TA-10000577        Furniture       Tables   \n",
       " 4     ...       33311   South  OFF-ST-10000760  Office Supplies      Storage   \n",
       " ...   ...         ...     ...              ...              ...          ...   \n",
       " 9989  ...       33180   South  FUR-FU-10001889        Furniture  Furnishings   \n",
       " 9990  ...       92627    West  FUR-FU-10000747        Furniture  Furnishings   \n",
       " 9991  ...       92627    West  TEC-PH-10003645       Technology       Phones   \n",
       " 9992  ...       92627    West  OFF-PA-10004041  Office Supplies        Paper   \n",
       " 9993  ...       92683    West  OFF-AP-10002684  Office Supplies   Appliances   \n",
       " \n",
       "                                            Product Name     Sales  Quantity  \\\n",
       " 0                     Bush Somerset Collection Bookcase  261.9600         2   \n",
       " 1     Hon Deluxe Fabric Upholstered Stacking Chairs,...  731.9400         3   \n",
       " 2     Self-Adhesive Address Labels for Typewriters b...   14.6200         2   \n",
       " 3         Bretford CR4500 Series Slim Rectangular Table  957.5775         5   \n",
       " 4                        Eldon Fold 'N Roll Cart System   22.3680         2   \n",
       " ...                                                 ...       ...       ...   \n",
       " 9989                             Ultra Door Pull Handle   25.2480         3   \n",
       " 9990  Tenex B1-RE Series Chair Mats for Low Pile Car...   91.9600         2   \n",
       " 9991                              Aastra 57i VoIP phone  258.5760         2   \n",
       " 9992  It's Hot Message Books with Stickers, 2 3/4\" x 5\"   29.6000         4   \n",
       " 9993  Acco 7-Outlet Masterpiece Power Center, Wihtou...  243.1600         2   \n",
       " \n",
       "       Discount    Profit  \n",
       " 0         0.00   41.9136  \n",
       " 1         0.00  219.5820  \n",
       " 2         0.00    6.8714  \n",
       " 3         0.45 -383.0310  \n",
       " 4         0.20    2.5164  \n",
       " ...        ...       ...  \n",
       " 9989      0.20    4.1028  \n",
       " 9990      0.00   15.6332  \n",
       " 9991      0.20   19.3932  \n",
       " 9992      0.00   13.3200  \n",
       " 9993      0.00   72.9480  \n",
       " \n",
       " [9994 rows x 21 columns],\n",
       " 'Returns':     Returned        Order ID\n",
       " 0        Yes  CA-2017-153822\n",
       " 1        Yes  CA-2017-129707\n",
       " 2        Yes  CA-2014-152345\n",
       " 3        Yes  CA-2015-156440\n",
       " 4        Yes  US-2017-155999\n",
       " ..       ...             ...\n",
       " 291      Yes  CA-2015-101910\n",
       " 292      Yes  CA-2017-156958\n",
       " 293      Yes  CA-2016-105585\n",
       " 294      Yes  CA-2016-148796\n",
       " 295      Yes  CA-2015-149636\n",
       " \n",
       " [296 rows x 2 columns],\n",
       " 'People':               Person   Region\n",
       " 0      Anna Andreadi     West\n",
       " 1        Chuck Magee     East\n",
       " 2     Kelly Williams  Central\n",
       " 3  Cassandra Brandow    South}"
      ]
     },
     "execution_count": 12,
     "metadata": {},
     "output_type": "execute_result"
    }
   ],
   "source": [
    "diccionario"
   ]
  },
  {
   "cell_type": "code",
   "execution_count": 13,
   "id": "70bd95eb",
   "metadata": {},
   "outputs": [],
   "source": [
    "df_pedidos = diccionario[\"Orders\"]\n",
    "df_devoluciones = diccionario[\"Returns\"]\n",
    "df_personas = diccionario[\"People\"]"
   ]
  },
  {
   "cell_type": "code",
   "execution_count": 14,
   "id": "2f5ec09f",
   "metadata": {},
   "outputs": [
    {
     "name": "stdout",
     "output_type": "stream",
     "text": [
      "<class 'pandas.core.frame.DataFrame'>\n",
      "RangeIndex: 9994 entries, 0 to 9993\n",
      "Data columns (total 21 columns):\n",
      " #   Column         Non-Null Count  Dtype         \n",
      "---  ------         --------------  -----         \n",
      " 0   Row ID         9994 non-null   int64         \n",
      " 1   Order ID       9994 non-null   object        \n",
      " 2   Order Date     9994 non-null   datetime64[ns]\n",
      " 3   Ship Date      9994 non-null   datetime64[ns]\n",
      " 4   Ship Mode      9994 non-null   object        \n",
      " 5   Customer ID    9994 non-null   object        \n",
      " 6   Customer Name  9994 non-null   object        \n",
      " 7   Segment        9994 non-null   object        \n",
      " 8   Country        9994 non-null   object        \n",
      " 9   City           9994 non-null   object        \n",
      " 10  State          9994 non-null   object        \n",
      " 11  Postal Code    9994 non-null   int64         \n",
      " 12  Region         9994 non-null   object        \n",
      " 13  Product ID     9994 non-null   object        \n",
      " 14  Category       9994 non-null   object        \n",
      " 15  Sub-Category   9994 non-null   object        \n",
      " 16  Product Name   9994 non-null   object        \n",
      " 17  Sales          9994 non-null   float64       \n",
      " 18  Quantity       9994 non-null   int64         \n",
      " 19  Discount       9994 non-null   float64       \n",
      " 20  Profit         9994 non-null   float64       \n",
      "dtypes: datetime64[ns](2), float64(3), int64(3), object(13)\n",
      "memory usage: 1.6+ MB\n"
     ]
    }
   ],
   "source": [
    "df_pedidos.info()"
   ]
  },
  {
   "cell_type": "code",
   "execution_count": 15,
   "id": "453ace74",
   "metadata": {},
   "outputs": [
    {
     "name": "stdout",
     "output_type": "stream",
     "text": [
      "<class 'pandas.core.frame.DataFrame'>\n",
      "RangeIndex: 4 entries, 0 to 3\n",
      "Data columns (total 2 columns):\n",
      " #   Column  Non-Null Count  Dtype \n",
      "---  ------  --------------  ----- \n",
      " 0   Person  4 non-null      object\n",
      " 1   Region  4 non-null      object\n",
      "dtypes: object(2)\n",
      "memory usage: 196.0+ bytes\n"
     ]
    }
   ],
   "source": [
    "df_personas.info()"
   ]
  },
  {
   "cell_type": "code",
   "execution_count": 16,
   "id": "767a028e",
   "metadata": {},
   "outputs": [
    {
     "name": "stdout",
     "output_type": "stream",
     "text": [
      "<class 'pandas.core.frame.DataFrame'>\n",
      "RangeIndex: 296 entries, 0 to 295\n",
      "Data columns (total 2 columns):\n",
      " #   Column    Non-Null Count  Dtype \n",
      "---  ------    --------------  ----- \n",
      " 0   Returned  296 non-null    object\n",
      " 1   Order ID  296 non-null    object\n",
      "dtypes: object(2)\n",
      "memory usage: 4.8+ KB\n"
     ]
    }
   ],
   "source": [
    "df_devoluciones.info()"
   ]
  },
  {
   "cell_type": "code",
   "execution_count": 17,
   "id": "af542ce2",
   "metadata": {},
   "outputs": [
    {
     "name": "stdout",
     "output_type": "stream",
     "text": [
      "   A  B\n",
      "0  1  3\n",
      "1  2  4\n",
      "0  5  7\n",
      "1  6  8\n"
     ]
    }
   ],
   "source": [
    "df1 = pd.DataFrame({\"A\": [1, 2], \"B\": [3, 4]})\n",
    "df2 = pd.DataFrame({\"A\": [5, 6], \"B\": [7, 8]})\n",
    "result_rows = pd.concat([df1, df2])\n",
    "print(result_rows)"
   ]
  },
  {
   "cell_type": "code",
   "execution_count": 18,
   "id": "40fabe0f",
   "metadata": {},
   "outputs": [
    {
     "name": "stdout",
     "output_type": "stream",
     "text": [
      "<class 'pandas.core.frame.DataFrame'>\n",
      "RangeIndex: 9994 entries, 0 to 9993\n",
      "Data columns (total 22 columns):\n",
      " #   Column         Non-Null Count  Dtype         \n",
      "---  ------         --------------  -----         \n",
      " 0   Row ID         9994 non-null   int64         \n",
      " 1   Order ID       9994 non-null   object        \n",
      " 2   Order Date     9994 non-null   datetime64[ns]\n",
      " 3   Ship Date      9994 non-null   datetime64[ns]\n",
      " 4   Ship Mode      9994 non-null   object        \n",
      " 5   Customer ID    9994 non-null   object        \n",
      " 6   Customer Name  9994 non-null   object        \n",
      " 7   Segment        9994 non-null   object        \n",
      " 8   Country        9994 non-null   object        \n",
      " 9   City           9994 non-null   object        \n",
      " 10  State          9994 non-null   object        \n",
      " 11  Postal Code    9994 non-null   int64         \n",
      " 12  Region         9994 non-null   object        \n",
      " 13  Product ID     9994 non-null   object        \n",
      " 14  Category       9994 non-null   object        \n",
      " 15  Sub-Category   9994 non-null   object        \n",
      " 16  Product Name   9994 non-null   object        \n",
      " 17  Sales          9994 non-null   float64       \n",
      " 18  Quantity       9994 non-null   int64         \n",
      " 19  Discount       9994 non-null   float64       \n",
      " 20  Profit         9994 non-null   float64       \n",
      " 21  Returned       800 non-null    object        \n",
      "dtypes: datetime64[ns](2), float64(3), int64(3), object(14)\n",
      "memory usage: 1.7+ MB\n"
     ]
    }
   ],
   "source": [
    "df_pedidos_completo = pd.merge(\n",
    "    left = df_pedidos,\n",
    "    right = df_devoluciones,\n",
    "    on = \"Order ID\",\n",
    "    how = \"left\"\n",
    ")\n",
    "df_pedidos_completo.info()"
   ]
  },
  {
   "cell_type": "code",
   "execution_count": 19,
   "id": "18d8737c",
   "metadata": {},
   "outputs": [
    {
     "name": "stdout",
     "output_type": "stream",
     "text": [
      "<class 'pandas.core.frame.DataFrame'>\n",
      "RangeIndex: 9994 entries, 0 to 9993\n",
      "Data columns (total 23 columns):\n",
      " #   Column         Non-Null Count  Dtype         \n",
      "---  ------         --------------  -----         \n",
      " 0   Row ID         9994 non-null   int64         \n",
      " 1   Order ID       9994 non-null   object        \n",
      " 2   Order Date     9994 non-null   datetime64[ns]\n",
      " 3   Ship Date      9994 non-null   datetime64[ns]\n",
      " 4   Ship Mode      9994 non-null   object        \n",
      " 5   Customer ID    9994 non-null   object        \n",
      " 6   Customer Name  9994 non-null   object        \n",
      " 7   Segment        9994 non-null   object        \n",
      " 8   Country        9994 non-null   object        \n",
      " 9   City           9994 non-null   object        \n",
      " 10  State          9994 non-null   object        \n",
      " 11  Postal Code    9994 non-null   int64         \n",
      " 12  Region         9994 non-null   object        \n",
      " 13  Product ID     9994 non-null   object        \n",
      " 14  Category       9994 non-null   object        \n",
      " 15  Sub-Category   9994 non-null   object        \n",
      " 16  Product Name   9994 non-null   object        \n",
      " 17  Sales          9994 non-null   float64       \n",
      " 18  Quantity       9994 non-null   int64         \n",
      " 19  Discount       9994 non-null   float64       \n",
      " 20  Profit         9994 non-null   float64       \n",
      " 21  Returned       800 non-null    object        \n",
      " 22  Person         9994 non-null   object        \n",
      "dtypes: datetime64[ns](2), float64(3), int64(3), object(15)\n",
      "memory usage: 1.8+ MB\n"
     ]
    }
   ],
   "source": [
    "df_pedidos_completo = pd.merge(\n",
    "    left = df_pedidos_completo,\n",
    "    right = df_personas,\n",
    "    on = \"Region\",\n",
    "    how = \"left\"\n",
    ")\n",
    "df_pedidos_completo.info()"
   ]
  },
  {
   "cell_type": "code",
   "execution_count": 20,
   "id": "38745596",
   "metadata": {},
   "outputs": [],
   "source": [
    "import numpy as np"
   ]
  },
  {
   "cell_type": "code",
   "execution_count": 21,
   "id": "1b9cb421",
   "metadata": {},
   "outputs": [
    {
     "data": {
      "text/plain": [
       "Returned\n",
       "Yes    800\n",
       "Name: count, dtype: int64"
      ]
     },
     "execution_count": 21,
     "metadata": {},
     "output_type": "execute_result"
    }
   ],
   "source": [
    "df_pedidos_completo[\"Returned\"].value_counts()"
   ]
  },
  {
   "cell_type": "code",
   "execution_count": 23,
   "id": "b182ab73",
   "metadata": {},
   "outputs": [],
   "source": [
    "df_pedidos_completo[\"Returned\"] = df_pedidos_completo[\"Returned\"].fillna(\"No\")"
   ]
  },
  {
   "cell_type": "code",
   "execution_count": 24,
   "id": "a70753d3",
   "metadata": {},
   "outputs": [
    {
     "data": {
      "text/plain": [
       "Returned\n",
       "0      9194\n",
       "Yes     800\n",
       "Name: count, dtype: int64"
      ]
     },
     "execution_count": 24,
     "metadata": {},
     "output_type": "execute_result"
    }
   ],
   "source": [
    "df_pedidos_completo[\"Returned\"].value_counts()"
   ]
  }
 ],
 "metadata": {
  "kernelspec": {
   "display_name": "venv",
   "language": "python",
   "name": "python3"
  },
  "language_info": {
   "codemirror_mode": {
    "name": "ipython",
    "version": 3
   },
   "file_extension": ".py",
   "mimetype": "text/x-python",
   "name": "python",
   "nbconvert_exporter": "python",
   "pygments_lexer": "ipython3",
   "version": "3.13.5"
  }
 },
 "nbformat": 4,
 "nbformat_minor": 5
}
