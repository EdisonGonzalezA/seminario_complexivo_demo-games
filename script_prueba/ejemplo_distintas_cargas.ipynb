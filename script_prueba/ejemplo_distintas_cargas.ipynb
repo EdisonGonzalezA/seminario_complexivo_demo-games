{
 "cells": [
  {
   "cell_type": "markdown",
   "id": "7066fd49",
   "metadata": {},
   "source": [
    "# Ejemplo de cargas de archivos"
   ]
  },
  {
   "cell_type": "markdown",
   "id": "0ba58346",
   "metadata": {},
   "source": [
    "## Ejemplo #1 - Archivo Excel con varios sheets"
   ]
  },
  {
   "cell_type": "code",
   "execution_count": 1,
   "id": "47ae6b46",
   "metadata": {},
   "outputs": [],
   "source": [
    "import pandas as pd"
   ]
  },
  {
   "cell_type": "code",
   "execution_count": 2,
   "id": "6e9b5601",
   "metadata": {},
   "outputs": [],
   "source": [
    "ruta_excel = r\"D:\\UNIANDES\\Carrera de Software\\Titulacion\\Seminario_Python\\seminario_complexivo_demo-games\\data\\Sample - Superstore.xls\""
   ]
  },
  {
   "cell_type": "code",
   "execution_count": null,
   "id": "ef67f711",
   "metadata": {},
   "outputs": [],
   "source": [
    "df = pd.read_excel(ruta_excel, sheet_name=\"Orders\")\n"
   ]
  }
 ],
 "metadata": {
  "kernelspec": {
   "display_name": "venv",
   "language": "python",
   "name": "python3"
  },
  "language_info": {
   "codemirror_mode": {
    "name": "ipython",
    "version": 3
   },
   "file_extension": ".py",
   "mimetype": "text/x-python",
   "name": "python",
   "nbconvert_exporter": "python",
   "pygments_lexer": "ipython3",
   "version": "3.13.5"
  }
 },
 "nbformat": 4,
 "nbformat_minor": 5
}
